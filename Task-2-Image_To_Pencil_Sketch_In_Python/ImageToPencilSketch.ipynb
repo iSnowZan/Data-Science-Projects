{
 "cells": [
  {
   "cell_type": "markdown",
   "id": "9d0c56de",
   "metadata": {},
   "source": [
    "# LGMVIP - DATA SCIENCE"
   ]
  },
  {
   "cell_type": "markdown",
   "id": "413f8415",
   "metadata": {},
   "source": [
    "# Author - Pujan Bose"
   ]
  },
  {
   "cell_type": "markdown",
   "id": "1d70b959",
   "metadata": {},
   "source": [
    "# Task - Image to Pencil Sketch using Python"
   ]
  },
  {
   "cell_type": "markdown",
   "id": "4cb4c104",
   "metadata": {},
   "source": [
    "## Importing OpenCV2 library"
   ]
  },
  {
   "cell_type": "code",
   "execution_count": 22,
   "id": "e0acb502",
   "metadata": {},
   "outputs": [],
   "source": [
    "import cv2"
   ]
  },
  {
   "cell_type": "markdown",
   "id": "a3cf70ce",
   "metadata": {},
   "source": [
    "## Downloading Image"
   ]
  },
  {
   "cell_type": "code",
   "execution_count": 23,
   "id": "dbe678fb",
   "metadata": {},
   "outputs": [
    {
     "name": "stdout",
     "output_type": "stream",
     "text": [
      "Starting to Download!\n",
      "Download complete!\n"
     ]
    }
   ],
   "source": [
    "#Image Downloader\n",
    "import requests\n",
    "\n",
    "print ('Starting to Download!')\n",
    "\n",
    "url = 'https://animereview829003141.files.wordpress.com/2018/09/hun4.jpg?w=800&h=450'\n",
    "r = requests.get(url)\n",
    "\n",
    "filename = 'image.jpg'\n",
    "\n",
    "with open(filename, 'wb') as out_file:\n",
    "    out_file.write(r.content)\n",
    "\n",
    "print(\"Download complete!\")"
   ]
  },
  {
   "cell_type": "markdown",
   "id": "19dc521a",
   "metadata": {},
   "source": [
    "## Reading the Image"
   ]
  },
  {
   "cell_type": "code",
   "execution_count": 25,
   "id": "30c57fde",
   "metadata": {},
   "outputs": [
    {
     "data": {
      "text/plain": [
       "-1"
      ]
     },
     "execution_count": 25,
     "metadata": {},
     "output_type": "execute_result"
    }
   ],
   "source": [
    "image = cv2.imread(filename)\n",
    "cv2.imshow(\"gon_kil\", image)\n",
    "cv2.waitKey(0)"
   ]
  },
  {
   "cell_type": "markdown",
   "id": "398840a1",
   "metadata": {},
   "source": [
    "## Converting the Image into Grayscale"
   ]
  },
  {
   "cell_type": "code",
   "execution_count": 26,
   "id": "a1e84ec1",
   "metadata": {},
   "outputs": [
    {
     "data": {
      "text/plain": [
       "-1"
      ]
     },
     "execution_count": 26,
     "metadata": {},
     "output_type": "execute_result"
    }
   ],
   "source": [
    "gray_image = cv2.cvtColor(image, cv2.COLOR_BGR2GRAY)\n",
    "cv2.imshow(\"grayscale\", gray_image)\n",
    "cv2.waitKey(0)"
   ]
  },
  {
   "cell_type": "markdown",
   "id": "09d3bcdb",
   "metadata": {},
   "source": [
    "## Inverting the Grayscaled Image"
   ]
  },
  {
   "cell_type": "code",
   "execution_count": 27,
   "id": "62a3553c",
   "metadata": {},
   "outputs": [
    {
     "data": {
      "text/plain": [
       "-1"
      ]
     },
     "execution_count": 27,
     "metadata": {},
     "output_type": "execute_result"
    }
   ],
   "source": [
    "#inverted_image = 255 - gray_image\n",
    "inverted_image =  cv2.bitwise_not(gray_image)\n",
    "cv2.imshow(\"Inverted\", inverted_image)\n",
    "cv2.waitKey()"
   ]
  },
  {
   "cell_type": "markdown",
   "id": "17b33911",
   "metadata": {},
   "source": [
    "## Blurring the Inverted Image"
   ]
  },
  {
   "cell_type": "code",
   "execution_count": 28,
   "id": "7e6c3374",
   "metadata": {},
   "outputs": [
    {
     "data": {
      "text/plain": [
       "-1"
      ]
     },
     "execution_count": 28,
     "metadata": {},
     "output_type": "execute_result"
    }
   ],
   "source": [
    "blur = cv2.GaussianBlur(inverted_image,(21,21),0)\n",
    "cv2.imshow(\"blurred\", blur)\n",
    "cv2.waitKey()"
   ]
  },
  {
   "cell_type": "markdown",
   "id": "1aafc867",
   "metadata": {},
   "source": [
    "## Creating the Final Pencil Sketch"
   ]
  },
  {
   "cell_type": "code",
   "execution_count": 31,
   "id": "b1850a43",
   "metadata": {},
   "outputs": [
    {
     "data": {
      "text/plain": [
       "-1"
      ]
     },
     "execution_count": 31,
     "metadata": {},
     "output_type": "execute_result"
    }
   ],
   "source": [
    "inverted_blur = 255 - blur\n",
    "sketch = cv2.divide(gray_image,inverted_blur,scale = 256.0)\n",
    "cv2.imshow(\"Pencil Sketch\", sketch)\n",
    "cv2.waitKey(0)"
   ]
  },
  {
   "cell_type": "markdown",
   "id": "c9084126",
   "metadata": {},
   "source": [
    "### Thank You "
   ]
  }
 ],
 "metadata": {
  "kernelspec": {
   "display_name": "Python 3",
   "language": "python",
   "name": "python3"
  },
  "language_info": {
   "codemirror_mode": {
    "name": "ipython",
    "version": 3
   },
   "file_extension": ".py",
   "mimetype": "text/x-python",
   "name": "python",
   "nbconvert_exporter": "python",
   "pygments_lexer": "ipython3",
   "version": "3.8.8"
  }
 },
 "nbformat": 4,
 "nbformat_minor": 5
}
